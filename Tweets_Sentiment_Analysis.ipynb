{
  "cells": [
    {
      "cell_type": "markdown",
      "metadata": {
        "id": "QDuxEIhBSu9b"
      },
      "source": [
        "# Pranav Srinivas Venkatesh - 1678255\n",
        "# Thejas Thirthalingaiah - 1678000\n",
        "# Bharath Kumar Nagaraju - 1604533\n",
        "\n",
        "\n"
      ]
    },
    {
      "cell_type": "code",
      "execution_count": null,
      "metadata": {
        "id": "gJArDH_pSuNN"
      },
      "outputs": [],
      "source": []
    },
    {
      "cell_type": "markdown",
      "metadata": {
        "id": "L6p0z7OGGta3"
      },
      "source": [
        "# Importing library for data augmentation"
      ]
    },
    {
      "cell_type": "code",
      "execution_count": 1,
      "metadata": {
        "colab": {
          "base_uri": "https://localhost:8080/"
        },
        "id": "fnGRERp35We_",
        "outputId": "a56674b1-e931-4e1f-94a9-abf43e611a1b"
      },
      "outputs": [
        {
          "output_type": "stream",
          "name": "stdout",
          "text": [
            "Collecting nlpaug\n",
            "  Downloading nlpaug-1.1.11-py3-none-any.whl (410 kB)\n",
            "\u001b[2K     \u001b[90m━━━━━━━━━━━━━━━━━━━━━━━━━━━━━━━━━━━━━━━━\u001b[0m \u001b[32m410.5/410.5 kB\u001b[0m \u001b[31m3.7 MB/s\u001b[0m eta \u001b[36m0:00:00\u001b[0m\n",
            "\u001b[?25hRequirement already satisfied: numpy>=1.16.2 in /usr/local/lib/python3.10/dist-packages (from nlpaug) (1.23.5)\n",
            "Requirement already satisfied: pandas>=1.2.0 in /usr/local/lib/python3.10/dist-packages (from nlpaug) (1.5.3)\n",
            "Requirement already satisfied: requests>=2.22.0 in /usr/local/lib/python3.10/dist-packages (from nlpaug) (2.31.0)\n",
            "Requirement already satisfied: gdown>=4.0.0 in /usr/local/lib/python3.10/dist-packages (from nlpaug) (4.7.3)\n",
            "Requirement already satisfied: filelock in /usr/local/lib/python3.10/dist-packages (from gdown>=4.0.0->nlpaug) (3.13.1)\n",
            "Requirement already satisfied: six in /usr/local/lib/python3.10/dist-packages (from gdown>=4.0.0->nlpaug) (1.16.0)\n",
            "Requirement already satisfied: tqdm in /usr/local/lib/python3.10/dist-packages (from gdown>=4.0.0->nlpaug) (4.66.1)\n",
            "Requirement already satisfied: beautifulsoup4 in /usr/local/lib/python3.10/dist-packages (from gdown>=4.0.0->nlpaug) (4.11.2)\n",
            "Requirement already satisfied: python-dateutil>=2.8.1 in /usr/local/lib/python3.10/dist-packages (from pandas>=1.2.0->nlpaug) (2.8.2)\n",
            "Requirement already satisfied: pytz>=2020.1 in /usr/local/lib/python3.10/dist-packages (from pandas>=1.2.0->nlpaug) (2023.3.post1)\n",
            "Requirement already satisfied: charset-normalizer<4,>=2 in /usr/local/lib/python3.10/dist-packages (from requests>=2.22.0->nlpaug) (3.3.2)\n",
            "Requirement already satisfied: idna<4,>=2.5 in /usr/local/lib/python3.10/dist-packages (from requests>=2.22.0->nlpaug) (3.6)\n",
            "Requirement already satisfied: urllib3<3,>=1.21.1 in /usr/local/lib/python3.10/dist-packages (from requests>=2.22.0->nlpaug) (2.0.7)\n",
            "Requirement already satisfied: certifi>=2017.4.17 in /usr/local/lib/python3.10/dist-packages (from requests>=2.22.0->nlpaug) (2023.11.17)\n",
            "Requirement already satisfied: soupsieve>1.2 in /usr/local/lib/python3.10/dist-packages (from beautifulsoup4->gdown>=4.0.0->nlpaug) (2.5)\n",
            "Requirement already satisfied: PySocks!=1.5.7,>=1.5.6 in /usr/local/lib/python3.10/dist-packages (from requests>=2.22.0->nlpaug) (1.7.1)\n",
            "Installing collected packages: nlpaug\n",
            "Successfully installed nlpaug-1.1.11\n"
          ]
        }
      ],
      "source": [
        "!pip install nlpaug\n",
        "\n"
      ]
    },
    {
      "cell_type": "markdown",
      "metadata": {
        "id": "0TDT5infHApr"
      },
      "source": [
        "# Importing necessary libraries"
      ]
    },
    {
      "cell_type": "code",
      "execution_count": 2,
      "metadata": {
        "id": "q1QBivzF4cAL"
      },
      "outputs": [],
      "source": [
        "import numpy as np\n",
        "import pandas as pd\n",
        "from sklearn.model_selection import train_test_split\n",
        "from tensorflow.keras.preprocessing.text import Tokenizer\n",
        "from tensorflow.keras.preprocessing.sequence import pad_sequences\n",
        "\n",
        "from sklearn.feature_extraction.text import TfidfVectorizer\n",
        "from sklearn.metrics import accuracy_score\n",
        "from tensorflow.keras.models import Sequential, Model\n",
        "from tensorflow.keras.layers import Embedding, Conv1D, GlobalMaxPooling1D, Dense, Dropout, BatchNormalization, Input, concatenate\n",
        "from tensorflow.keras.callbacks import EarlyStopping\n",
        "import nlpaug.augmenter.word as naw"
      ]
    },
    {
      "cell_type": "markdown",
      "metadata": {
        "id": "AtF7tW0_HDqy"
      },
      "source": [
        "# Mounting google colab"
      ]
    },
    {
      "cell_type": "code",
      "execution_count": 3,
      "metadata": {
        "colab": {
          "base_uri": "https://localhost:8080/"
        },
        "id": "rlsN2EdA4owz",
        "outputId": "0241da62-fe0f-4b62-8b4c-0058e7669ee6"
      },
      "outputs": [
        {
          "output_type": "stream",
          "name": "stdout",
          "text": [
            "Mounted at /content/drive\n"
          ]
        }
      ],
      "source": [
        "\n",
        "from google.colab import drive\n",
        "\n",
        "# from google.colab import drive\n",
        "drive.mount('/content/drive')\n",
        "df=pd.read_csv('/content/drive/MyDrive/train.tsv',on_bad_lines='warn',sep='\\t')"
      ]
    },
    {
      "cell_type": "code",
      "execution_count": 4,
      "metadata": {
        "colab": {
          "base_uri": "https://localhost:8080/"
        },
        "id": "UHWJujn14sx-",
        "outputId": "c6d44ee4-d6b6-42a2-9d15-271b2227ec0b"
      },
      "outputs": [
        {
          "output_type": "execute_result",
          "data": {
            "text/plain": [
              "0    1613916569775513600\n",
              "1    1610293430143574021\n",
              "2    1615763835658305536\n",
              "3    1617231518937538563\n",
              "4    1621892119861366788\n",
              "5    1608840424080412674\n",
              "6    1616711994198966273\n",
              "7    1599052076742766592\n",
              "8    1627422178818793472\n",
              "9    1611777912998612992\n",
              "Name: id, dtype: int64"
            ]
          },
          "metadata": {},
          "execution_count": 4
        }
      ],
      "source": [
        "df['id'].head(10\n",
        "              )"
      ]
    },
    {
      "cell_type": "code",
      "execution_count": 4,
      "metadata": {
        "id": "q_gtVO154sqO"
      },
      "outputs": [],
      "source": []
    },
    {
      "cell_type": "code",
      "execution_count": 4,
      "metadata": {
        "id": "gI2CUt4O4soB"
      },
      "outputs": [],
      "source": []
    },
    {
      "cell_type": "markdown",
      "metadata": {
        "id": "jzwQbbtf6_7h"
      },
      "source": [
        "# Using Convolution Neural Network with ensemble method"
      ]
    },
    {
      "cell_type": "code",
      "execution_count": 5,
      "metadata": {
        "id": "LQCTw6FgI5TS"
      },
      "outputs": [],
      "source": [
        "#embeddings_index=50"
      ]
    },
    {
      "cell_type": "code",
      "execution_count": 10,
      "metadata": {
        "colab": {
          "base_uri": "https://localhost:8080/"
        },
        "id": "7ABB4JGi70qp",
        "outputId": "095e8c97-a2b0-44f3-cefd-eae9e3f3c911"
      },
      "outputs": [
        {
          "output_type": "stream",
          "name": "stdout",
          "text": [
            "Epoch 1/20\n",
            "54/54 [==============================] - 4s 36ms/step - loss: 1.0104 - accuracy: 0.5356 - val_loss: 0.9567 - val_accuracy: 0.5026\n",
            "Epoch 2/20\n",
            "54/54 [==============================] - 1s 21ms/step - loss: 0.8495 - accuracy: 0.5785 - val_loss: 0.8763 - val_accuracy: 0.5767\n",
            "Epoch 3/20\n",
            "54/54 [==============================] - 1s 18ms/step - loss: 0.6314 - accuracy: 0.7678 - val_loss: 0.8267 - val_accuracy: 0.6296\n",
            "Epoch 4/20\n",
            "54/54 [==============================] - 2s 29ms/step - loss: 0.4051 - accuracy: 0.8948 - val_loss: 0.8465 - val_accuracy: 0.6455\n",
            "Epoch 5/20\n",
            "54/54 [==============================] - 2s 29ms/step - loss: 0.2407 - accuracy: 0.9636 - val_loss: 0.8964 - val_accuracy: 0.6349\n",
            "Epoch 6/20\n",
            "54/54 [==============================] - 2s 30ms/step - loss: 0.1457 - accuracy: 0.9882 - val_loss: 0.9434 - val_accuracy: 0.6243\n"
          ]
        },
        {
          "output_type": "execute_result",
          "data": {
            "text/plain": [
              "<keras.src.callbacks.History at 0x79a95570c280>"
            ]
          },
          "metadata": {},
          "execution_count": 10
        }
      ],
      "source": [
        "\n",
        "# Split the dataset into training and testing sets\n",
        "df_train, df_test = train_test_split(df, test_size=0.30, random_state=42)\n",
        "\n",
        "# Feature engineering using TF-IDF on the training set\n",
        "tfidf_vectorizer = TfidfVectorizer(max_features=5000)\n",
        "tfidf_features_train = tfidf_vectorizer.fit_transform(df_train['text']).toarray()\n",
        "\n",
        "# Tokenize and pad sequences for training set\n",
        "tokenizer = Tokenizer()\n",
        "tokenizer.fit_on_texts(df_train['text'])\n",
        "vocab_size = len(tokenizer.word_index) + 1\n",
        "sequences_train = tokenizer.texts_to_sequences(df_train['text'])\n",
        "max_length = max(len(seq) for seq in sequences_train)\n",
        "X_train = pad_sequences(sequences_train, maxlen=max_length)\n",
        "\n",
        "# Convert labels to one-hot encoding\n",
        "y_train = pd.get_dummies(df_train['sentiment']).values\n",
        "\n",
        "# Feature engineering using TF-IDF on the testing set\n",
        "tfidf_features_test = tfidf_vectorizer.transform(df_test['text']).toarray()\n",
        "\n",
        "# Tokenize and pad sequences for testing set\n",
        "sequences_test = tokenizer.texts_to_sequences(df_test['text'])\n",
        "X_test = pad_sequences(sequences_test, maxlen=max_length)\n",
        "\n",
        "# Convert labels to one-hot encoding for testing set\n",
        "y_test = pd.get_dummies(df_test['sentiment']).values\n",
        "\n",
        "embeddings_index = {}\n",
        "\n",
        "embedding_dim = 50\n",
        "embedding_matrix = np.zeros((vocab_size, embedding_dim))\n",
        "for word, i in tokenizer.word_index.items():\n",
        "    embedding_vector = embeddings_index.get(word)\n",
        "    if embedding_vector is not None:\n",
        "        embedding_matrix[i] = embedding_vector\n",
        "\n",
        "# Build the CNN model with improvements and feature engineering\n",
        "cnn_model = Sequential()\n",
        "cnn_model.add(Embedding(vocab_size, embedding_dim, input_length=max_length, weights=[embedding_matrix], trainable=False))\n",
        "cnn_model.add(Conv1D(128, 5, activation='relu'))\n",
        "cnn_model.add(GlobalMaxPooling1D())\n",
        "cnn_model.add(Dropout(0.5))\n",
        "cnn_model.add(Dense(64, activation='relu'))\n",
        "cnn_model.add(BatchNormalization())\n",
        "cnn_model.add(Dense(3, activation='softmax'))\n",
        "\n",
        "# Feature engineering with TF-IDF\n",
        "tfidf_input = Input(shape=(5000,))\n",
        "dense_tfidf = Dense(128, activation='relu')(tfidf_input)\n",
        "\n",
        "# Combine CNN and TF-IDF features\n",
        "combined = concatenate([cnn_model.output, dense_tfidf])\n",
        "final_output = Dense(3, activation='softmax')(combined)\n",
        "\n",
        "ensemble_model_base = Model(inputs=[cnn_model.input, tfidf_input], outputs=final_output)\n",
        "ensemble_model_base.compile(optimizer='adam', loss='categorical_crossentropy', metrics=['accuracy'])\n",
        "\n",
        "# Implement early stopping\n",
        "early_stopping = EarlyStopping(monitor='val_loss', patience=3, restore_best_weights=True)\n",
        "\n",
        "# Text augmentation using nlpaug\n",
        "aug = naw.SynonymAug()\n",
        "\n",
        "# Augment the training data\n",
        "X_train_augmented = []\n",
        "y_train_augmented = []\n",
        "tfidf_train_augmented = []\n",
        "\n",
        "for text, label, tfidf, tweet_id in zip(df_train['text'], df_train['sentiment'], tfidf_features_train, df_train['id']):\n",
        "    augmented_text = aug.augment(text)\n",
        "    X_train_augmented.append({'id': tweet_id, 'text': augmented_text})\n",
        "    y_train_augmented.append(label)\n",
        "    tfidf_train_augmented.append(tfidf)\n",
        "\n",
        "# Tokenize and pad augmented sequences\n",
        "sequences_augmented = tokenizer.texts_to_sequences([example['text'] for example in X_train_augmented])\n",
        "X_train_augmented = pad_sequences(sequences_augmented, maxlen=max_length)\n",
        "\n",
        "# Convert labels to one-hot encoding\n",
        "y_train_augmented = pd.get_dummies(y_train_augmented).values\n",
        "tfidf_train_augmented = np.array(tfidf_train_augmented)\n",
        "\n",
        "# Train the ensemble model with augmented data\n",
        "ensemble_model_base.fit([X_train_augmented, tfidf_train_augmented], y_train_augmented,\n",
        "                   epochs=20, batch_size=32, validation_split=0.1, callbacks=[early_stopping])\n"
      ]
    },
    {
      "cell_type": "code",
      "execution_count": 11,
      "metadata": {
        "colab": {
          "base_uri": "https://localhost:8080/"
        },
        "id": "ynLkhAEpoDBg",
        "outputId": "1957bbfb-d685-4223-a8df-22bfb6b49975"
      },
      "outputs": [
        {
          "output_type": "stream",
          "name": "stdout",
          "text": [
            "26/26 [==============================] - 0s 11ms/step\n",
            "Weighted F1 Score on Test Set: 0.5874195045575207\n"
          ]
        }
      ],
      "source": [
        "from sklearn.metrics import f1_score\n",
        "\n",
        "# Make predictions on the test set\n",
        "y_pred_prob = ensemble_model_base.predict([X_test, tfidf_features_test])\n",
        "\n",
        "# Convert predicted probabilities to class labels\n",
        "y_pred = np.argmax(y_pred_prob, axis=1)\n",
        "\n",
        "# Convert one-hot encoded true labels to class labels\n",
        "y_true = np.argmax(y_test, axis=1)\n",
        "\n",
        "# Calculate F1 score\n",
        "f1 = f1_score(y_true, y_pred, average='weighted')\n",
        "\n",
        "print(\"Weighted F1 Score on Test Set:\", f1)\n"
      ]
    },
    {
      "cell_type": "code",
      "execution_count": 12,
      "metadata": {
        "colab": {
          "base_uri": "https://localhost:8080/"
        },
        "id": "ZO8FYYcFmFw6",
        "outputId": "ced11560-a275-4788-d49f-bf3c41942a87"
      },
      "outputs": [
        {
          "output_type": "execute_result",
          "data": {
            "text/plain": [
              "0.6407407522201538"
            ]
          },
          "metadata": {},
          "execution_count": 12
        }
      ],
      "source": [
        "accuracy_base = ensemble_model_base.evaluate([X_test, tfidf_features_test], y_test, verbose=0)[1]\n",
        "accuracy_base"
      ]
    },
    {
      "cell_type": "markdown",
      "metadata": {
        "id": "Lmw1TT0GIzAn"
      },
      "source": [
        "#Grid Search"
      ]
    },
    {
      "cell_type": "code",
      "execution_count": 8,
      "metadata": {
        "id": "ovtSyjI6Rro6"
      },
      "outputs": [],
      "source": []
    },
    {
      "cell_type": "code",
      "execution_count": 13,
      "metadata": {
        "colab": {
          "base_uri": "https://localhost:8080/"
        },
        "id": "YlIoLZdnRrma",
        "outputId": "931921bc-7c1f-40eb-fe0f-d021db7b7a9f"
      },
      "outputs": [
        {
          "output_type": "stream",
          "name": "stdout",
          "text": [
            "26/26 [==============================] - 0s 5ms/step\n",
            "26/26 [==============================] - 1s 12ms/step\n",
            "26/26 [==============================] - 0s 9ms/step\n",
            "26/26 [==============================] - 0s 5ms/step\n",
            "26/26 [==============================] - 0s 6ms/step\n",
            "26/26 [==============================] - 0s 9ms/step\n",
            "26/26 [==============================] - 0s 5ms/step\n",
            "26/26 [==============================] - 0s 7ms/step\n",
            "26/26 [==============================] - 1s 15ms/step\n",
            "26/26 [==============================] - 0s 5ms/step\n",
            "26/26 [==============================] - 0s 7ms/step\n",
            "26/26 [==============================] - 0s 10ms/step\n",
            "26/26 [==============================] - 0s 5ms/step\n",
            "26/26 [==============================] - 0s 7ms/step\n",
            "26/26 [==============================] - 0s 9ms/step\n",
            "26/26 [==============================] - 0s 8ms/step\n",
            "26/26 [==============================] - 0s 7ms/step\n",
            "26/26 [==============================] - 0s 9ms/step\n",
            "26/26 [==============================] - 0s 6ms/step\n",
            "26/26 [==============================] - 0s 6ms/step\n",
            "26/26 [==============================] - 0s 10ms/step\n",
            "26/26 [==============================] - 0s 5ms/step\n",
            "26/26 [==============================] - 0s 10ms/step\n",
            "26/26 [==============================] - 0s 9ms/step\n",
            "26/26 [==============================] - 0s 5ms/step\n",
            "26/26 [==============================] - 0s 7ms/step\n",
            "26/26 [==============================] - 0s 10ms/step\n",
            "26/26 [==============================] - 0s 7ms/step\n",
            "26/26 [==============================] - 0s 6ms/step\n",
            "26/26 [==============================] - 0s 9ms/step\n",
            "26/26 [==============================] - 0s 9ms/step\n",
            "26/26 [==============================] - 0s 9ms/step\n",
            "26/26 [==============================] - 0s 9ms/step\n",
            "26/26 [==============================] - 0s 9ms/step\n",
            "26/26 [==============================] - 0s 7ms/step\n",
            "26/26 [==============================] - 0s 10ms/step\n",
            "26/26 [==============================] - 0s 5ms/step\n",
            "26/26 [==============================] - 0s 10ms/step\n",
            "26/26 [==============================] - 0s 9ms/step\n",
            "26/26 [==============================] - 0s 5ms/step\n",
            "26/26 [==============================] - 0s 11ms/step\n",
            "26/26 [==============================] - 0s 10ms/step\n",
            "26/26 [==============================] - 0s 5ms/step\n",
            "26/26 [==============================] - 0s 7ms/step\n",
            "26/26 [==============================] - 0s 9ms/step\n",
            "26/26 [==============================] - 0s 5ms/step\n",
            "26/26 [==============================] - 0s 7ms/step\n",
            "26/26 [==============================] - 0s 10ms/step\n",
            "26/26 [==============================] - 0s 5ms/step\n",
            "26/26 [==============================] - 1s 12ms/step\n",
            "26/26 [==============================] - 0s 10ms/step\n",
            "26/26 [==============================] - 0s 8ms/step\n",
            "26/26 [==============================] - 0s 9ms/step\n",
            "26/26 [==============================] - 0s 11ms/step\n",
            "26/26 [==============================] - 0s 6ms/step\n",
            "26/26 [==============================] - 1s 19ms/step\n",
            "26/26 [==============================] - 0s 14ms/step\n",
            "26/26 [==============================] - 0s 6ms/step\n",
            "26/26 [==============================] - 0s 8ms/step\n",
            "26/26 [==============================] - 0s 11ms/step\n",
            "26/26 [==============================] - 0s 6ms/step\n",
            "26/26 [==============================] - 0s 7ms/step\n",
            "26/26 [==============================] - 0s 10ms/step\n",
            "26/26 [==============================] - 0s 6ms/step\n",
            "26/26 [==============================] - 0s 7ms/step\n",
            "26/26 [==============================] - 0s 10ms/step\n",
            "26/26 [==============================] - 0s 5ms/step\n",
            "26/26 [==============================] - 0s 10ms/step\n",
            "26/26 [==============================] - 1s 16ms/step\n",
            "26/26 [==============================] - 0s 5ms/step\n",
            "26/26 [==============================] - 0s 7ms/step\n",
            "26/26 [==============================] - 0s 11ms/step\n",
            "26/26 [==============================] - 0s 6ms/step\n",
            "26/26 [==============================] - 0s 7ms/step\n",
            "26/26 [==============================] - 0s 10ms/step\n",
            "26/26 [==============================] - 0s 5ms/step\n",
            "26/26 [==============================] - 0s 7ms/step\n",
            "26/26 [==============================] - 0s 9ms/step\n",
            "26/26 [==============================] - 0s 6ms/step\n",
            "26/26 [==============================] - 0s 7ms/step\n",
            "26/26 [==============================] - 0s 10ms/step\n",
            "Best parameters (F1 score): {'activation': 'relu', 'activity_regularizer': <keras.src.regularizers.L2 object at 0x79a9379c2710>, 'kernel_regularizer': <keras.src.regularizers.L1 object at 0x79a937e97cd0>, 'units': 64}\n",
            "Best F1 score: 0.6313085193491775\n"
          ]
        }
      ],
      "source": [
        "from sklearn.model_selection import ParameterGrid\n",
        "from keras.regularizers import l1, l2\n",
        "\n",
        "best_f1_score = 0.0\n",
        "best_params_f1 = None\n",
        "\n",
        "\n",
        "# Define a function to create the CNN model\n",
        "def create_model(activation='relu', units=128, kernel_regularizer=None, activity_regularizer=None):\n",
        "    cnn_model = Sequential()\n",
        "    cnn_model.add(Embedding(vocab_size, embedding_dim, input_length=max_length, weights=[embedding_matrix], trainable=False))\n",
        "    cnn_model.add(Conv1D(units, 5, activation=activation, kernel_regularizer=kernel_regularizer, activity_regularizer=activity_regularizer))\n",
        "    cnn_model.add(GlobalMaxPooling1D())\n",
        "    cnn_model.add(Dropout(0.5))\n",
        "    cnn_model.add(Dense(64, activation='relu'))\n",
        "    cnn_model.add(BatchNormalization())\n",
        "    cnn_model.add(Dense(3, activation='softmax'))\n",
        "\n",
        "    tfidf_input = Input(shape=(5000,))\n",
        "    dense_tfidf = Dense(128, activation='relu')(tfidf_input)\n",
        "\n",
        "    combined = concatenate([cnn_model.output, dense_tfidf])\n",
        "    final_output = Dense(3, activation='softmax')(combined)\n",
        "\n",
        "    model = Model(inputs=[cnn_model.input, tfidf_input], outputs=final_output)\n",
        "    model.compile(optimizer='adam', loss='categorical_crossentropy', metrics=['accuracy'])\n",
        "\n",
        "    return model\n",
        "\n",
        "# Define the hyperparameter grid with regularizers\n",
        "param_grid = {\n",
        "    'activation': ['relu', 'sigmoid', 'tanh'],\n",
        "    'units': [64, 128, 256],\n",
        "    'kernel_regularizer': [None, l1(0.01), l2(0.01)],\n",
        "    'activity_regularizer': [None, l1(0.01), l2(0.01)]\n",
        "}\n",
        "\n",
        "# Implement early stopping with verbose set to 0\n",
        "early_stopping = EarlyStopping(monitor='val_loss', patience=3, restore_best_weights=True, verbose=0)\n",
        "\n",
        "# Iterate over all combinations of hyperparameters\n",
        "for params in ParameterGrid(param_grid):\n",
        "    model = create_model(\n",
        "        activation=params['activation'],\n",
        "        units=params['units'],\n",
        "        kernel_regularizer=params['kernel_regularizer'],\n",
        "        activity_regularizer=params['activity_regularizer']\n",
        "    )\n",
        "    model.fit([X_train_augmented, tfidf_train_augmented], y_train_augmented,\n",
        "              epochs=20, batch_size=32, validation_split=0.1, callbacks=[early_stopping], verbose=0)\n",
        "\n",
        "    # Evaluate the model on F1 score\n",
        "    y_pred = model.predict([X_test, tfidf_features_test])\n",
        "    f1 = f1_score(np.argmax(y_test, axis=1), np.argmax(y_pred, axis=1), average='weighted')\n",
        "\n",
        "    # Check if the current model has a better F1 score than the previous best\n",
        "    if f1 > best_f1_score:\n",
        "        best_f1_score = f1\n",
        "        best_params_f1 = params\n",
        "\n",
        "    # Print or store results as needed\n",
        "\n",
        "# Print the best parameters and corresponding F1 score\n",
        "print(\"Best parameters (F1 score):\", best_params_f1)\n",
        "print(\"Best F1 score:\", best_f1_score)"
      ]
    },
    {
      "cell_type": "code",
      "execution_count": 14,
      "metadata": {
        "colab": {
          "base_uri": "https://localhost:8080/"
        },
        "id": "YbMWKvurRrj7",
        "outputId": "eda8b7e7-d654-4ee2-a049-573330dbdc04"
      },
      "outputs": [
        {
          "output_type": "stream",
          "name": "stdout",
          "text": [
            "activation: relu\n",
            "activity_regularizer: <keras.src.regularizers.L2 object at 0x79a9379c2710>\n",
            "kernel_regularizer: <keras.src.regularizers.L1 object at 0x79a937e97cd0>\n",
            "units: 64\n"
          ]
        }
      ],
      "source": [
        "\n",
        "for key, value in best_params_f1.items():\n",
        "    print(f'{key}: {value}')"
      ]
    },
    {
      "cell_type": "code",
      "execution_count": 15,
      "metadata": {
        "colab": {
          "base_uri": "https://localhost:8080/",
          "height": 442
        },
        "id": "XdbG7BZLRrhR",
        "outputId": "f39a4177-ef11-4b60-8322-a11d56208532"
      },
      "outputs": [
        {
          "output_type": "stream",
          "name": "stdout",
          "text": [
            "26/26 [==============================] - 0s 9ms/step\n"
          ]
        },
        {
          "output_type": "execute_result",
          "data": {
            "text/plain": [
              "                       id                                               text  \\\n",
              "1339  1603023236916281345  .@greenpeace_de heute mit genau der richtigen ...   \n",
              "1222  1618740286947209216  Klimakrise: CO2 sehr viel Industrie, Produkthe...   \n",
              "1106  1602626145664507906  Aktuell gibt es einen #Stromausfall in #Newel,...   \n",
              "812   1616429760757768192  Gratulation, liebe @AMPELKOALITI0N und @CDU\\nD...   \n",
              "1231  1618970856478347264  Wie lange wollen Sie die #Armut in #Deutschlan...   \n",
              "...                   ...                                                ...   \n",
              "555   1611162553568165888  Die Regierung müsste komplett zurücktreten! Ba...   \n",
              "2118  1633840218301411328  Wann werden der #Leopard2 und andere dringend ...   \n",
              "1506  1626555694945120257  Die gute Nachricht,  einen  Krapfen oder auch ...   \n",
              "1419  1619712269038030848  Auf den Ausspruch \"Kohle ist eine Sünde\" habe ...   \n",
              "2637  1597529960595410944  Der DWS-Investmentchef Björn Jesch gibt seine ...   \n",
              "\n",
              "      sentiment  predicted_sentiment  \n",
              "1339          2                    2  \n",
              "1222          0                    2  \n",
              "1106          0                    0  \n",
              "812           2                    2  \n",
              "1231          2                    2  \n",
              "...         ...                  ...  \n",
              "555           2                    2  \n",
              "2118          1                    0  \n",
              "1506          2                    2  \n",
              "1419          2                    2  \n",
              "2637          0                    0  \n",
              "\n",
              "[810 rows x 4 columns]"
            ],
            "text/html": [
              "\n",
              "  <div id=\"df-e24db938-2dd4-4239-bd31-68723003c2c2\" class=\"colab-df-container\">\n",
              "    <div>\n",
              "<style scoped>\n",
              "    .dataframe tbody tr th:only-of-type {\n",
              "        vertical-align: middle;\n",
              "    }\n",
              "\n",
              "    .dataframe tbody tr th {\n",
              "        vertical-align: top;\n",
              "    }\n",
              "\n",
              "    .dataframe thead th {\n",
              "        text-align: right;\n",
              "    }\n",
              "</style>\n",
              "<table border=\"1\" class=\"dataframe\">\n",
              "  <thead>\n",
              "    <tr style=\"text-align: right;\">\n",
              "      <th></th>\n",
              "      <th>id</th>\n",
              "      <th>text</th>\n",
              "      <th>sentiment</th>\n",
              "      <th>predicted_sentiment</th>\n",
              "    </tr>\n",
              "  </thead>\n",
              "  <tbody>\n",
              "    <tr>\n",
              "      <th>1339</th>\n",
              "      <td>1603023236916281345</td>\n",
              "      <td>.@greenpeace_de heute mit genau der richtigen ...</td>\n",
              "      <td>2</td>\n",
              "      <td>2</td>\n",
              "    </tr>\n",
              "    <tr>\n",
              "      <th>1222</th>\n",
              "      <td>1618740286947209216</td>\n",
              "      <td>Klimakrise: CO2 sehr viel Industrie, Produkthe...</td>\n",
              "      <td>0</td>\n",
              "      <td>2</td>\n",
              "    </tr>\n",
              "    <tr>\n",
              "      <th>1106</th>\n",
              "      <td>1602626145664507906</td>\n",
              "      <td>Aktuell gibt es einen #Stromausfall in #Newel,...</td>\n",
              "      <td>0</td>\n",
              "      <td>0</td>\n",
              "    </tr>\n",
              "    <tr>\n",
              "      <th>812</th>\n",
              "      <td>1616429760757768192</td>\n",
              "      <td>Gratulation, liebe @AMPELKOALITI0N und @CDU\\nD...</td>\n",
              "      <td>2</td>\n",
              "      <td>2</td>\n",
              "    </tr>\n",
              "    <tr>\n",
              "      <th>1231</th>\n",
              "      <td>1618970856478347264</td>\n",
              "      <td>Wie lange wollen Sie die #Armut in #Deutschlan...</td>\n",
              "      <td>2</td>\n",
              "      <td>2</td>\n",
              "    </tr>\n",
              "    <tr>\n",
              "      <th>...</th>\n",
              "      <td>...</td>\n",
              "      <td>...</td>\n",
              "      <td>...</td>\n",
              "      <td>...</td>\n",
              "    </tr>\n",
              "    <tr>\n",
              "      <th>555</th>\n",
              "      <td>1611162553568165888</td>\n",
              "      <td>Die Regierung müsste komplett zurücktreten! Ba...</td>\n",
              "      <td>2</td>\n",
              "      <td>2</td>\n",
              "    </tr>\n",
              "    <tr>\n",
              "      <th>2118</th>\n",
              "      <td>1633840218301411328</td>\n",
              "      <td>Wann werden der #Leopard2 und andere dringend ...</td>\n",
              "      <td>1</td>\n",
              "      <td>0</td>\n",
              "    </tr>\n",
              "    <tr>\n",
              "      <th>1506</th>\n",
              "      <td>1626555694945120257</td>\n",
              "      <td>Die gute Nachricht,  einen  Krapfen oder auch ...</td>\n",
              "      <td>2</td>\n",
              "      <td>2</td>\n",
              "    </tr>\n",
              "    <tr>\n",
              "      <th>1419</th>\n",
              "      <td>1619712269038030848</td>\n",
              "      <td>Auf den Ausspruch \"Kohle ist eine Sünde\" habe ...</td>\n",
              "      <td>2</td>\n",
              "      <td>2</td>\n",
              "    </tr>\n",
              "    <tr>\n",
              "      <th>2637</th>\n",
              "      <td>1597529960595410944</td>\n",
              "      <td>Der DWS-Investmentchef Björn Jesch gibt seine ...</td>\n",
              "      <td>0</td>\n",
              "      <td>0</td>\n",
              "    </tr>\n",
              "  </tbody>\n",
              "</table>\n",
              "<p>810 rows × 4 columns</p>\n",
              "</div>\n",
              "    <div class=\"colab-df-buttons\">\n",
              "\n",
              "  <div class=\"colab-df-container\">\n",
              "    <button class=\"colab-df-convert\" onclick=\"convertToInteractive('df-e24db938-2dd4-4239-bd31-68723003c2c2')\"\n",
              "            title=\"Convert this dataframe to an interactive table.\"\n",
              "            style=\"display:none;\">\n",
              "\n",
              "  <svg xmlns=\"http://www.w3.org/2000/svg\" height=\"24px\" viewBox=\"0 -960 960 960\">\n",
              "    <path d=\"M120-120v-720h720v720H120Zm60-500h600v-160H180v160Zm220 220h160v-160H400v160Zm0 220h160v-160H400v160ZM180-400h160v-160H180v160Zm440 0h160v-160H620v160ZM180-180h160v-160H180v160Zm440 0h160v-160H620v160Z\"/>\n",
              "  </svg>\n",
              "    </button>\n",
              "\n",
              "  <style>\n",
              "    .colab-df-container {\n",
              "      display:flex;\n",
              "      gap: 12px;\n",
              "    }\n",
              "\n",
              "    .colab-df-convert {\n",
              "      background-color: #E8F0FE;\n",
              "      border: none;\n",
              "      border-radius: 50%;\n",
              "      cursor: pointer;\n",
              "      display: none;\n",
              "      fill: #1967D2;\n",
              "      height: 32px;\n",
              "      padding: 0 0 0 0;\n",
              "      width: 32px;\n",
              "    }\n",
              "\n",
              "    .colab-df-convert:hover {\n",
              "      background-color: #E2EBFA;\n",
              "      box-shadow: 0px 1px 2px rgba(60, 64, 67, 0.3), 0px 1px 3px 1px rgba(60, 64, 67, 0.15);\n",
              "      fill: #174EA6;\n",
              "    }\n",
              "\n",
              "    .colab-df-buttons div {\n",
              "      margin-bottom: 4px;\n",
              "    }\n",
              "\n",
              "    [theme=dark] .colab-df-convert {\n",
              "      background-color: #3B4455;\n",
              "      fill: #D2E3FC;\n",
              "    }\n",
              "\n",
              "    [theme=dark] .colab-df-convert:hover {\n",
              "      background-color: #434B5C;\n",
              "      box-shadow: 0px 1px 3px 1px rgba(0, 0, 0, 0.15);\n",
              "      filter: drop-shadow(0px 1px 2px rgba(0, 0, 0, 0.3));\n",
              "      fill: #FFFFFF;\n",
              "    }\n",
              "  </style>\n",
              "\n",
              "    <script>\n",
              "      const buttonEl =\n",
              "        document.querySelector('#df-e24db938-2dd4-4239-bd31-68723003c2c2 button.colab-df-convert');\n",
              "      buttonEl.style.display =\n",
              "        google.colab.kernel.accessAllowed ? 'block' : 'none';\n",
              "\n",
              "      async function convertToInteractive(key) {\n",
              "        const element = document.querySelector('#df-e24db938-2dd4-4239-bd31-68723003c2c2');\n",
              "        const dataTable =\n",
              "          await google.colab.kernel.invokeFunction('convertToInteractive',\n",
              "                                                    [key], {});\n",
              "        if (!dataTable) return;\n",
              "\n",
              "        const docLinkHtml = 'Like what you see? Visit the ' +\n",
              "          '<a target=\"_blank\" href=https://colab.research.google.com/notebooks/data_table.ipynb>data table notebook</a>'\n",
              "          + ' to learn more about interactive tables.';\n",
              "        element.innerHTML = '';\n",
              "        dataTable['output_type'] = 'display_data';\n",
              "        await google.colab.output.renderOutput(dataTable, element);\n",
              "        const docLink = document.createElement('div');\n",
              "        docLink.innerHTML = docLinkHtml;\n",
              "        element.appendChild(docLink);\n",
              "      }\n",
              "    </script>\n",
              "  </div>\n",
              "\n",
              "\n",
              "<div id=\"df-5deb6685-d7b6-469e-a208-9ca4dc68fc41\">\n",
              "  <button class=\"colab-df-quickchart\" onclick=\"quickchart('df-5deb6685-d7b6-469e-a208-9ca4dc68fc41')\"\n",
              "            title=\"Suggest charts\"\n",
              "            style=\"display:none;\">\n",
              "\n",
              "<svg xmlns=\"http://www.w3.org/2000/svg\" height=\"24px\"viewBox=\"0 0 24 24\"\n",
              "     width=\"24px\">\n",
              "    <g>\n",
              "        <path d=\"M19 3H5c-1.1 0-2 .9-2 2v14c0 1.1.9 2 2 2h14c1.1 0 2-.9 2-2V5c0-1.1-.9-2-2-2zM9 17H7v-7h2v7zm4 0h-2V7h2v10zm4 0h-2v-4h2v4z\"/>\n",
              "    </g>\n",
              "</svg>\n",
              "  </button>\n",
              "\n",
              "<style>\n",
              "  .colab-df-quickchart {\n",
              "      --bg-color: #E8F0FE;\n",
              "      --fill-color: #1967D2;\n",
              "      --hover-bg-color: #E2EBFA;\n",
              "      --hover-fill-color: #174EA6;\n",
              "      --disabled-fill-color: #AAA;\n",
              "      --disabled-bg-color: #DDD;\n",
              "  }\n",
              "\n",
              "  [theme=dark] .colab-df-quickchart {\n",
              "      --bg-color: #3B4455;\n",
              "      --fill-color: #D2E3FC;\n",
              "      --hover-bg-color: #434B5C;\n",
              "      --hover-fill-color: #FFFFFF;\n",
              "      --disabled-bg-color: #3B4455;\n",
              "      --disabled-fill-color: #666;\n",
              "  }\n",
              "\n",
              "  .colab-df-quickchart {\n",
              "    background-color: var(--bg-color);\n",
              "    border: none;\n",
              "    border-radius: 50%;\n",
              "    cursor: pointer;\n",
              "    display: none;\n",
              "    fill: var(--fill-color);\n",
              "    height: 32px;\n",
              "    padding: 0;\n",
              "    width: 32px;\n",
              "  }\n",
              "\n",
              "  .colab-df-quickchart:hover {\n",
              "    background-color: var(--hover-bg-color);\n",
              "    box-shadow: 0 1px 2px rgba(60, 64, 67, 0.3), 0 1px 3px 1px rgba(60, 64, 67, 0.15);\n",
              "    fill: var(--button-hover-fill-color);\n",
              "  }\n",
              "\n",
              "  .colab-df-quickchart-complete:disabled,\n",
              "  .colab-df-quickchart-complete:disabled:hover {\n",
              "    background-color: var(--disabled-bg-color);\n",
              "    fill: var(--disabled-fill-color);\n",
              "    box-shadow: none;\n",
              "  }\n",
              "\n",
              "  .colab-df-spinner {\n",
              "    border: 2px solid var(--fill-color);\n",
              "    border-color: transparent;\n",
              "    border-bottom-color: var(--fill-color);\n",
              "    animation:\n",
              "      spin 1s steps(1) infinite;\n",
              "  }\n",
              "\n",
              "  @keyframes spin {\n",
              "    0% {\n",
              "      border-color: transparent;\n",
              "      border-bottom-color: var(--fill-color);\n",
              "      border-left-color: var(--fill-color);\n",
              "    }\n",
              "    20% {\n",
              "      border-color: transparent;\n",
              "      border-left-color: var(--fill-color);\n",
              "      border-top-color: var(--fill-color);\n",
              "    }\n",
              "    30% {\n",
              "      border-color: transparent;\n",
              "      border-left-color: var(--fill-color);\n",
              "      border-top-color: var(--fill-color);\n",
              "      border-right-color: var(--fill-color);\n",
              "    }\n",
              "    40% {\n",
              "      border-color: transparent;\n",
              "      border-right-color: var(--fill-color);\n",
              "      border-top-color: var(--fill-color);\n",
              "    }\n",
              "    60% {\n",
              "      border-color: transparent;\n",
              "      border-right-color: var(--fill-color);\n",
              "    }\n",
              "    80% {\n",
              "      border-color: transparent;\n",
              "      border-right-color: var(--fill-color);\n",
              "      border-bottom-color: var(--fill-color);\n",
              "    }\n",
              "    90% {\n",
              "      border-color: transparent;\n",
              "      border-bottom-color: var(--fill-color);\n",
              "    }\n",
              "  }\n",
              "</style>\n",
              "\n",
              "  <script>\n",
              "    async function quickchart(key) {\n",
              "      const quickchartButtonEl =\n",
              "        document.querySelector('#' + key + ' button');\n",
              "      quickchartButtonEl.disabled = true;  // To prevent multiple clicks.\n",
              "      quickchartButtonEl.classList.add('colab-df-spinner');\n",
              "      try {\n",
              "        const charts = await google.colab.kernel.invokeFunction(\n",
              "            'suggestCharts', [key], {});\n",
              "      } catch (error) {\n",
              "        console.error('Error during call to suggestCharts:', error);\n",
              "      }\n",
              "      quickchartButtonEl.classList.remove('colab-df-spinner');\n",
              "      quickchartButtonEl.classList.add('colab-df-quickchart-complete');\n",
              "    }\n",
              "    (() => {\n",
              "      let quickchartButtonEl =\n",
              "        document.querySelector('#df-5deb6685-d7b6-469e-a208-9ca4dc68fc41 button');\n",
              "      quickchartButtonEl.style.display =\n",
              "        google.colab.kernel.accessAllowed ? 'block' : 'none';\n",
              "    })();\n",
              "  </script>\n",
              "</div>\n",
              "    </div>\n",
              "  </div>\n"
            ]
          },
          "metadata": {},
          "execution_count": 15
        }
      ],
      "source": [
        "# Use the trained model to predict labels for the test split\n",
        "predictions = model.predict([X_test, tfidf_features_test])\n",
        "\n",
        "# Convert the predicted probabilities to class labels\n",
        "predicted_labels = np.argmax(predictions, axis=1)\n",
        "\n",
        "\n",
        "# Display the predicted labels\n",
        "df_test['predicted_sentiment'] = predicted_labels\n",
        "df_test\n"
      ]
    },
    {
      "cell_type": "code",
      "execution_count": null,
      "metadata": {
        "id": "JKqIWpKFgZuX"
      },
      "outputs": [],
      "source": []
    },
    {
      "cell_type": "code",
      "execution_count": null,
      "metadata": {
        "id": "ZZG5hs23gZrD"
      },
      "outputs": [],
      "source": []
    },
    {
      "cell_type": "code",
      "execution_count": null,
      "metadata": {
        "id": "S43Cpaq6gZoL"
      },
      "outputs": [],
      "source": []
    },
    {
      "cell_type": "code",
      "execution_count": null,
      "metadata": {
        "id": "OLgyR0wTgZju"
      },
      "outputs": [],
      "source": []
    },
    {
      "cell_type": "code",
      "execution_count": null,
      "metadata": {
        "id": "bKNzw3Bt92L-"
      },
      "outputs": [],
      "source": []
    },
    {
      "cell_type": "code",
      "execution_count": null,
      "metadata": {
        "id": "L6R2sNgQHeaW"
      },
      "outputs": [],
      "source": []
    },
    {
      "cell_type": "markdown",
      "metadata": {
        "id": "r4puZj89Pera"
      },
      "source": [
        "# Taking holdback set for testing purpose"
      ]
    },
    {
      "cell_type": "code",
      "execution_count": 16,
      "metadata": {
        "id": "uL9Fqczc6_de"
      },
      "outputs": [],
      "source": [
        "df_new=pd.read_csv('/content/drive/MyDrive/holdback.tsv',on_bad_lines='warn',sep='\\t')"
      ]
    },
    {
      "cell_type": "code",
      "execution_count": null,
      "metadata": {
        "id": "6bV1W01Fe4Ym"
      },
      "outputs": [],
      "source": [
        "df_new"
      ]
    },
    {
      "cell_type": "code",
      "execution_count": null,
      "metadata": {
        "id": "p-bT-tRLjlxr"
      },
      "outputs": [],
      "source": []
    },
    {
      "cell_type": "code",
      "execution_count": 17,
      "metadata": {
        "colab": {
          "base_uri": "https://localhost:8080/",
          "height": 442
        },
        "id": "CovgYPjTgeOQ",
        "outputId": "50a36a24-d420-412d-9203-f40eb74a8395"
      },
      "outputs": [
        {
          "output_type": "stream",
          "name": "stdout",
          "text": [
            "10/10 [==============================] - 0s 9ms/step\n"
          ]
        },
        {
          "output_type": "execute_result",
          "data": {
            "text/plain": [
              "                      id                                               text  \\\n",
              "0    1631570395445751811  Die symbolträchtige Kleinstadt #Bachmut bleibt...   \n",
              "1    1595013102936133632  Um den Klimawandel zu bremsen, ist ein Umstieg...   \n",
              "2    1599000892891488258  .@pascalmeiser: \"Die Ampel hat in der Mietenpo...   \n",
              "3    1586994950738268160  Also wenn wir tiefe Löcher in die Erde bohren ...   \n",
              "4    1618139099453624321  Die Zukunft und Sicherheit Europas ist in höch...   \n",
              "..                   ...                                                ...   \n",
              "295  1618222773855473666  Man fühlt sich im falschen #Film: Kollektiver ...   \n",
              "296  1618373016093855753  Deutschland hat die Bestrafung verdient! Die T...   \n",
              "297  1634868404078415873  Ich wußte spätestens, aber wirklich allerspäte...   \n",
              "298  1617436568125415425  Was fällt euch auf, in dem Moment, wo der Herr...   \n",
              "299  1593853874317795330  1/ Thread #Inflation Teil 1\\n\\nFür mich ist da...   \n",
              "\n",
              "     predicted_sentiment  \n",
              "0                      0  \n",
              "1                      1  \n",
              "2                      2  \n",
              "3                      1  \n",
              "4                      2  \n",
              "..                   ...  \n",
              "295                    0  \n",
              "296                    2  \n",
              "297                    2  \n",
              "298                    2  \n",
              "299                    2  \n",
              "\n",
              "[300 rows x 3 columns]"
            ],
            "text/html": [
              "\n",
              "  <div id=\"df-33d97586-9ea9-44c4-9d23-4b97ca03b728\" class=\"colab-df-container\">\n",
              "    <div>\n",
              "<style scoped>\n",
              "    .dataframe tbody tr th:only-of-type {\n",
              "        vertical-align: middle;\n",
              "    }\n",
              "\n",
              "    .dataframe tbody tr th {\n",
              "        vertical-align: top;\n",
              "    }\n",
              "\n",
              "    .dataframe thead th {\n",
              "        text-align: right;\n",
              "    }\n",
              "</style>\n",
              "<table border=\"1\" class=\"dataframe\">\n",
              "  <thead>\n",
              "    <tr style=\"text-align: right;\">\n",
              "      <th></th>\n",
              "      <th>id</th>\n",
              "      <th>text</th>\n",
              "      <th>predicted_sentiment</th>\n",
              "    </tr>\n",
              "  </thead>\n",
              "  <tbody>\n",
              "    <tr>\n",
              "      <th>0</th>\n",
              "      <td>1631570395445751811</td>\n",
              "      <td>Die symbolträchtige Kleinstadt #Bachmut bleibt...</td>\n",
              "      <td>0</td>\n",
              "    </tr>\n",
              "    <tr>\n",
              "      <th>1</th>\n",
              "      <td>1595013102936133632</td>\n",
              "      <td>Um den Klimawandel zu bremsen, ist ein Umstieg...</td>\n",
              "      <td>1</td>\n",
              "    </tr>\n",
              "    <tr>\n",
              "      <th>2</th>\n",
              "      <td>1599000892891488258</td>\n",
              "      <td>.@pascalmeiser: \"Die Ampel hat in der Mietenpo...</td>\n",
              "      <td>2</td>\n",
              "    </tr>\n",
              "    <tr>\n",
              "      <th>3</th>\n",
              "      <td>1586994950738268160</td>\n",
              "      <td>Also wenn wir tiefe Löcher in die Erde bohren ...</td>\n",
              "      <td>1</td>\n",
              "    </tr>\n",
              "    <tr>\n",
              "      <th>4</th>\n",
              "      <td>1618139099453624321</td>\n",
              "      <td>Die Zukunft und Sicherheit Europas ist in höch...</td>\n",
              "      <td>2</td>\n",
              "    </tr>\n",
              "    <tr>\n",
              "      <th>...</th>\n",
              "      <td>...</td>\n",
              "      <td>...</td>\n",
              "      <td>...</td>\n",
              "    </tr>\n",
              "    <tr>\n",
              "      <th>295</th>\n",
              "      <td>1618222773855473666</td>\n",
              "      <td>Man fühlt sich im falschen #Film: Kollektiver ...</td>\n",
              "      <td>0</td>\n",
              "    </tr>\n",
              "    <tr>\n",
              "      <th>296</th>\n",
              "      <td>1618373016093855753</td>\n",
              "      <td>Deutschland hat die Bestrafung verdient! Die T...</td>\n",
              "      <td>2</td>\n",
              "    </tr>\n",
              "    <tr>\n",
              "      <th>297</th>\n",
              "      <td>1634868404078415873</td>\n",
              "      <td>Ich wußte spätestens, aber wirklich allerspäte...</td>\n",
              "      <td>2</td>\n",
              "    </tr>\n",
              "    <tr>\n",
              "      <th>298</th>\n",
              "      <td>1617436568125415425</td>\n",
              "      <td>Was fällt euch auf, in dem Moment, wo der Herr...</td>\n",
              "      <td>2</td>\n",
              "    </tr>\n",
              "    <tr>\n",
              "      <th>299</th>\n",
              "      <td>1593853874317795330</td>\n",
              "      <td>1/ Thread #Inflation Teil 1\\n\\nFür mich ist da...</td>\n",
              "      <td>2</td>\n",
              "    </tr>\n",
              "  </tbody>\n",
              "</table>\n",
              "<p>300 rows × 3 columns</p>\n",
              "</div>\n",
              "    <div class=\"colab-df-buttons\">\n",
              "\n",
              "  <div class=\"colab-df-container\">\n",
              "    <button class=\"colab-df-convert\" onclick=\"convertToInteractive('df-33d97586-9ea9-44c4-9d23-4b97ca03b728')\"\n",
              "            title=\"Convert this dataframe to an interactive table.\"\n",
              "            style=\"display:none;\">\n",
              "\n",
              "  <svg xmlns=\"http://www.w3.org/2000/svg\" height=\"24px\" viewBox=\"0 -960 960 960\">\n",
              "    <path d=\"M120-120v-720h720v720H120Zm60-500h600v-160H180v160Zm220 220h160v-160H400v160Zm0 220h160v-160H400v160ZM180-400h160v-160H180v160Zm440 0h160v-160H620v160ZM180-180h160v-160H180v160Zm440 0h160v-160H620v160Z\"/>\n",
              "  </svg>\n",
              "    </button>\n",
              "\n",
              "  <style>\n",
              "    .colab-df-container {\n",
              "      display:flex;\n",
              "      gap: 12px;\n",
              "    }\n",
              "\n",
              "    .colab-df-convert {\n",
              "      background-color: #E8F0FE;\n",
              "      border: none;\n",
              "      border-radius: 50%;\n",
              "      cursor: pointer;\n",
              "      display: none;\n",
              "      fill: #1967D2;\n",
              "      height: 32px;\n",
              "      padding: 0 0 0 0;\n",
              "      width: 32px;\n",
              "    }\n",
              "\n",
              "    .colab-df-convert:hover {\n",
              "      background-color: #E2EBFA;\n",
              "      box-shadow: 0px 1px 2px rgba(60, 64, 67, 0.3), 0px 1px 3px 1px rgba(60, 64, 67, 0.15);\n",
              "      fill: #174EA6;\n",
              "    }\n",
              "\n",
              "    .colab-df-buttons div {\n",
              "      margin-bottom: 4px;\n",
              "    }\n",
              "\n",
              "    [theme=dark] .colab-df-convert {\n",
              "      background-color: #3B4455;\n",
              "      fill: #D2E3FC;\n",
              "    }\n",
              "\n",
              "    [theme=dark] .colab-df-convert:hover {\n",
              "      background-color: #434B5C;\n",
              "      box-shadow: 0px 1px 3px 1px rgba(0, 0, 0, 0.15);\n",
              "      filter: drop-shadow(0px 1px 2px rgba(0, 0, 0, 0.3));\n",
              "      fill: #FFFFFF;\n",
              "    }\n",
              "  </style>\n",
              "\n",
              "    <script>\n",
              "      const buttonEl =\n",
              "        document.querySelector('#df-33d97586-9ea9-44c4-9d23-4b97ca03b728 button.colab-df-convert');\n",
              "      buttonEl.style.display =\n",
              "        google.colab.kernel.accessAllowed ? 'block' : 'none';\n",
              "\n",
              "      async function convertToInteractive(key) {\n",
              "        const element = document.querySelector('#df-33d97586-9ea9-44c4-9d23-4b97ca03b728');\n",
              "        const dataTable =\n",
              "          await google.colab.kernel.invokeFunction('convertToInteractive',\n",
              "                                                    [key], {});\n",
              "        if (!dataTable) return;\n",
              "\n",
              "        const docLinkHtml = 'Like what you see? Visit the ' +\n",
              "          '<a target=\"_blank\" href=https://colab.research.google.com/notebooks/data_table.ipynb>data table notebook</a>'\n",
              "          + ' to learn more about interactive tables.';\n",
              "        element.innerHTML = '';\n",
              "        dataTable['output_type'] = 'display_data';\n",
              "        await google.colab.output.renderOutput(dataTable, element);\n",
              "        const docLink = document.createElement('div');\n",
              "        docLink.innerHTML = docLinkHtml;\n",
              "        element.appendChild(docLink);\n",
              "      }\n",
              "    </script>\n",
              "  </div>\n",
              "\n",
              "\n",
              "<div id=\"df-b779a31a-2735-49b1-aa98-c01350ea4395\">\n",
              "  <button class=\"colab-df-quickchart\" onclick=\"quickchart('df-b779a31a-2735-49b1-aa98-c01350ea4395')\"\n",
              "            title=\"Suggest charts\"\n",
              "            style=\"display:none;\">\n",
              "\n",
              "<svg xmlns=\"http://www.w3.org/2000/svg\" height=\"24px\"viewBox=\"0 0 24 24\"\n",
              "     width=\"24px\">\n",
              "    <g>\n",
              "        <path d=\"M19 3H5c-1.1 0-2 .9-2 2v14c0 1.1.9 2 2 2h14c1.1 0 2-.9 2-2V5c0-1.1-.9-2-2-2zM9 17H7v-7h2v7zm4 0h-2V7h2v10zm4 0h-2v-4h2v4z\"/>\n",
              "    </g>\n",
              "</svg>\n",
              "  </button>\n",
              "\n",
              "<style>\n",
              "  .colab-df-quickchart {\n",
              "      --bg-color: #E8F0FE;\n",
              "      --fill-color: #1967D2;\n",
              "      --hover-bg-color: #E2EBFA;\n",
              "      --hover-fill-color: #174EA6;\n",
              "      --disabled-fill-color: #AAA;\n",
              "      --disabled-bg-color: #DDD;\n",
              "  }\n",
              "\n",
              "  [theme=dark] .colab-df-quickchart {\n",
              "      --bg-color: #3B4455;\n",
              "      --fill-color: #D2E3FC;\n",
              "      --hover-bg-color: #434B5C;\n",
              "      --hover-fill-color: #FFFFFF;\n",
              "      --disabled-bg-color: #3B4455;\n",
              "      --disabled-fill-color: #666;\n",
              "  }\n",
              "\n",
              "  .colab-df-quickchart {\n",
              "    background-color: var(--bg-color);\n",
              "    border: none;\n",
              "    border-radius: 50%;\n",
              "    cursor: pointer;\n",
              "    display: none;\n",
              "    fill: var(--fill-color);\n",
              "    height: 32px;\n",
              "    padding: 0;\n",
              "    width: 32px;\n",
              "  }\n",
              "\n",
              "  .colab-df-quickchart:hover {\n",
              "    background-color: var(--hover-bg-color);\n",
              "    box-shadow: 0 1px 2px rgba(60, 64, 67, 0.3), 0 1px 3px 1px rgba(60, 64, 67, 0.15);\n",
              "    fill: var(--button-hover-fill-color);\n",
              "  }\n",
              "\n",
              "  .colab-df-quickchart-complete:disabled,\n",
              "  .colab-df-quickchart-complete:disabled:hover {\n",
              "    background-color: var(--disabled-bg-color);\n",
              "    fill: var(--disabled-fill-color);\n",
              "    box-shadow: none;\n",
              "  }\n",
              "\n",
              "  .colab-df-spinner {\n",
              "    border: 2px solid var(--fill-color);\n",
              "    border-color: transparent;\n",
              "    border-bottom-color: var(--fill-color);\n",
              "    animation:\n",
              "      spin 1s steps(1) infinite;\n",
              "  }\n",
              "\n",
              "  @keyframes spin {\n",
              "    0% {\n",
              "      border-color: transparent;\n",
              "      border-bottom-color: var(--fill-color);\n",
              "      border-left-color: var(--fill-color);\n",
              "    }\n",
              "    20% {\n",
              "      border-color: transparent;\n",
              "      border-left-color: var(--fill-color);\n",
              "      border-top-color: var(--fill-color);\n",
              "    }\n",
              "    30% {\n",
              "      border-color: transparent;\n",
              "      border-left-color: var(--fill-color);\n",
              "      border-top-color: var(--fill-color);\n",
              "      border-right-color: var(--fill-color);\n",
              "    }\n",
              "    40% {\n",
              "      border-color: transparent;\n",
              "      border-right-color: var(--fill-color);\n",
              "      border-top-color: var(--fill-color);\n",
              "    }\n",
              "    60% {\n",
              "      border-color: transparent;\n",
              "      border-right-color: var(--fill-color);\n",
              "    }\n",
              "    80% {\n",
              "      border-color: transparent;\n",
              "      border-right-color: var(--fill-color);\n",
              "      border-bottom-color: var(--fill-color);\n",
              "    }\n",
              "    90% {\n",
              "      border-color: transparent;\n",
              "      border-bottom-color: var(--fill-color);\n",
              "    }\n",
              "  }\n",
              "</style>\n",
              "\n",
              "  <script>\n",
              "    async function quickchart(key) {\n",
              "      const quickchartButtonEl =\n",
              "        document.querySelector('#' + key + ' button');\n",
              "      quickchartButtonEl.disabled = true;  // To prevent multiple clicks.\n",
              "      quickchartButtonEl.classList.add('colab-df-spinner');\n",
              "      try {\n",
              "        const charts = await google.colab.kernel.invokeFunction(\n",
              "            'suggestCharts', [key], {});\n",
              "      } catch (error) {\n",
              "        console.error('Error during call to suggestCharts:', error);\n",
              "      }\n",
              "      quickchartButtonEl.classList.remove('colab-df-spinner');\n",
              "      quickchartButtonEl.classList.add('colab-df-quickchart-complete');\n",
              "    }\n",
              "    (() => {\n",
              "      let quickchartButtonEl =\n",
              "        document.querySelector('#df-b779a31a-2735-49b1-aa98-c01350ea4395 button');\n",
              "      quickchartButtonEl.style.display =\n",
              "        google.colab.kernel.accessAllowed ? 'block' : 'none';\n",
              "    })();\n",
              "  </script>\n",
              "</div>\n",
              "    </div>\n",
              "  </div>\n"
            ]
          },
          "metadata": {},
          "execution_count": 17
        }
      ],
      "source": [
        "\n",
        "df_new1=df_new\n",
        "# Tokenize and pad sequences for the new dataset\n",
        "sequences_new = tokenizer.texts_to_sequences(df_new1['text'])\n",
        "X_new = pad_sequences(sequences_new, maxlen=max_length)\n",
        "\n",
        "# Predict sentiments for the new dataset\n",
        "predictions_new = model.predict([X_new, tfidf_vectorizer.transform(df_new['text']).toarray()])\n",
        "\n",
        "# Add predicted sentiments to the DataFrame\n",
        "df_new1['predicted_sentiment'] = np.argmax(predictions_new, axis=1)\n",
        "\n",
        "# Display the relevant columns\n",
        "df_new1"
      ]
    },
    {
      "cell_type": "code",
      "execution_count": null,
      "metadata": {
        "id": "AJm7XcRIaB15"
      },
      "outputs": [],
      "source": []
    },
    {
      "cell_type": "code",
      "execution_count": null,
      "metadata": {
        "id": "W1MykCyMaBx8"
      },
      "outputs": [],
      "source": []
    },
    {
      "cell_type": "code",
      "execution_count": null,
      "metadata": {
        "id": "UHEHviHFaBuv"
      },
      "outputs": [],
      "source": []
    },
    {
      "cell_type": "markdown",
      "metadata": {
        "id": "PBqgp9LNP4Kb"
      },
      "source": [
        "# Writing the predictions of sentiments along with Tweet IDs to TSV file"
      ]
    },
    {
      "cell_type": "code",
      "execution_count": 26,
      "metadata": {
        "colab": {
          "base_uri": "https://localhost:8080/"
        },
        "id": "ZGcCFVuye4V9",
        "outputId": "a1eb1ae7-d7f1-4f10-edab-c440c95f7a43"
      },
      "outputs": [
        {
          "output_type": "stream",
          "name": "stdout",
          "text": [
            "Predicted sentiments saved to /content/drive/MyDrive/predicted_sentiments_holdback_new.tsv\n"
          ]
        }
      ],
      "source": [
        "\n",
        "\n",
        "# Assuming you have the tweet IDs in the 'tweet_id' column of your new dataset\n",
        "df_results = pd.DataFrame({'id': df_new['id'], 'sentiment': df_new1['predicted_sentiment']})\n",
        "\n",
        "# Save the results to a TSV file\n",
        "output_file_path = '/content/drive/MyDrive/predicted_sentiments_holdback_new.tsv'\n",
        "df_results.to_csv(output_file_path, sep='\\t', index=False)\n",
        "\n",
        "print(f\"Predicted sentiments saved to {output_file_path}\")\n"
      ]
    },
    {
      "cell_type": "code",
      "execution_count": null,
      "metadata": {
        "id": "1wpNBREUe4Ux"
      },
      "outputs": [],
      "source": []
    },
    {
      "cell_type": "code",
      "execution_count": null,
      "metadata": {
        "id": "JOMBE-Uve4Rc"
      },
      "outputs": [],
      "source": [
        "import os\n",
        "print(\"Current Working Directory:\", os.getcwd())\n"
      ]
    },
    {
      "cell_type": "code",
      "execution_count": null,
      "metadata": {
        "id": "wo0Pp5pBgEfE"
      },
      "outputs": [],
      "source": [
        "\n"
      ]
    }
  ],
  "metadata": {
    "colab": {
      "provenance": []
    },
    "kernelspec": {
      "display_name": "Python 3",
      "name": "python3"
    },
    "language_info": {
      "name": "python"
    }
  },
  "nbformat": 4,
  "nbformat_minor": 0
}